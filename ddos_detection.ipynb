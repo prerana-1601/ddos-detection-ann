{
 "cells": [
  {
   "cell_type": "code",
   "execution_count": 5,
   "id": "e1c39899-1f7b-4d49-add9-5856217b1152",
   "metadata": {},
   "outputs": [],
   "source": [
    "import pandas as pd\n",
    "import numpy as np\n",
    "# tensorflow\n",
    "from tensorflow.keras.models import Model, Sequential\n",
    "from tensorflow.keras.layers import Input, Dense, Dropout, Embedding, Flatten, Concatenate, BatchNormalization\n",
    "from tensorflow.keras.callbacks import EarlyStopping\n",
    "from tensorflow.keras.optimizers import Adam\n",
    "# sklearn\n",
    "from sklearn.model_selection import train_test_split\n",
    "from sklearn.preprocessing import LabelEncoder, StandardScaler\n",
    "from sklearn.feature_selection import SelectKBest, f_classif\n",
    "from sklearn.impute import SimpleImputer\n",
    "from sklearn.metrics import mean_squared_error, r2_score\n",
    "from sklearn.linear_model import LinearRegression\n",
    "#matplotlib\n",
    "import matplotlib.pyplot as plt"
   ]
  },
  {
   "cell_type": "code",
   "execution_count": 2,
   "id": "420b4162-65fb-4044-97e0-acffd69cc764",
   "metadata": {},
   "outputs": [],
   "source": [
    "#df= pd.read_csv(r\"D:/shyena/ddos/Friday-WorkingHours-Afternoon-DDos.pcap_ISCX.csv\")\n",
    "df= pd.read_csv(r\"DDos.pcap_ISCX.csv\")"
   ]
  },
  {
   "cell_type": "code",
   "execution_count": 3,
   "id": "a0474489-5489-4c06-a8ad-e2a5392feac1",
   "metadata": {},
   "outputs": [
    {
     "data": {
      "text/plain": [
       "array(['BENIGN', 'DDoS'], dtype=object)"
      ]
     },
     "execution_count": 3,
     "metadata": {},
     "output_type": "execute_result"
    }
   ],
   "source": [
    "df.columns = df.columns.str.strip()\n",
    "df.loc[:,'Label'].unique()"
   ]
  },
  {
   "cell_type": "code",
   "execution_count": 4,
   "id": "dff7202c-e935-41e9-89ee-5aa9ec23c691",
   "metadata": {},
   "outputs": [],
   "source": [
    "df['Label'] = df['Label'].map({'BENIGN': 0, 'DDoS': 1})"
   ]
  },
  {
   "cell_type": "code",
   "execution_count": 7,
   "id": "358c7210-ebbb-45fe-bda2-a7de23e3b224",
   "metadata": {},
   "outputs": [
    {
     "data": {
      "image/png": "[encoded data removed]",
      "text/plain": [
       "<Figure size 640x480 with 1 Axes>"
      ]
     },
     "metadata": {},
     "output_type": "display_data"
    }
   ],
   "source": [
    "plt.bar([0, 1], df['Label'].value_counts(), edgecolor='black')\n",
    "plt.xticks([0, 1], labels=['BENIGN=0', 'DDoS=1'])\n",
    "plt.xlabel('Classes')\n",
    "plt.ylabel('Count')\n",
    "plt.title('Distribution of Classes')\n",
    "plt.show()"
   ]
  },
  {
   "cell_type": "code",
   "execution_count": 8,
   "id": "697d040c-25f0-44ab-8311-bf9b1e76919b",
   "metadata": {},
   "outputs": [],
   "source": [
    "df=df.dropna()"
   ]
  },
  {
   "cell_type": "code",
   "execution_count": 9,
   "id": "c5f7c162-70be-457f-9ddf-6f5acc9a55f6",
   "metadata": {},
   "outputs": [
    {
     "data": {
      "text/plain": [
       "Destination Port               False\n",
       "Flow Duration                  False\n",
       "Total Fwd Packets              False\n",
       "Total Backward Packets         False\n",
       "Total Length of Fwd Packets    False\n",
       "                               ...  \n",
       "Idle Mean                      False\n",
       "Idle Std                       False\n",
       "Idle Max                       False\n",
       "Idle Min                       False\n",
       "Label                          False\n",
       "Length: 79, dtype: bool"
      ]
     },
     "execution_count": 9,
     "metadata": {},
     "output_type": "execute_result"
    }
   ],
   "source": [
    "(df.dtypes=='object')"
   ]
  },
  {
   "cell_type": "code",
   "execution_count": 10,
   "id": "b0cf7e93-c5be-4314-8b34-d7e0154eba51",
   "metadata": {},
   "outputs": [],
   "source": [
    "df = df.fillna(0)  # Replace NaN with 0\n",
    "df = df.replace([np.inf, -np.inf], 0)"
   ]
  },
  {
   "cell_type": "code",
   "execution_count": 11,
   "id": "1e175e23-998d-4a10-a7e3-7f26368ac17d",
   "metadata": {},
   "outputs": [
    {
     "data": {
      "text/plain": [
       "Destination Port               0\n",
       "Flow Duration                  0\n",
       "Total Fwd Packets              0\n",
       "Total Backward Packets         0\n",
       "Total Length of Fwd Packets    0\n",
       "                              ..\n",
       "Idle Mean                      0\n",
       "Idle Std                       0\n",
       "Idle Max                       0\n",
       "Idle Min                       0\n",
       "Label                          0\n",
       "Length: 79, dtype: int64"
      ]
     },
     "execution_count": 11,
     "metadata": {},
     "output_type": "execute_result"
    }
   ],
   "source": [
    "df.isnull().sum()"
   ]
  },
  {
   "cell_type": "code",
   "execution_count": 12,
   "id": "9b644a2c-7474-42a5-bda5-9a40f774a028",
   "metadata": {},
   "outputs": [],
   "source": [
    "df=df.astype(int)"
   ]
  },
  {
   "cell_type": "code",
   "execution_count": 13,
   "id": "dd80b285-54d5-42dc-941e-fc216083bda2",
   "metadata": {},
   "outputs": [],
   "source": [
    "X = df.drop('Label',axis=1)\n",
    "y = df['Label']"
   ]
  },
  {
   "cell_type": "code",
   "execution_count": 14,
   "id": "edc00605-9e98-4030-a53d-60e41ab739e7",
   "metadata": {},
   "outputs": [],
   "source": [
    "scaler = StandardScaler()\n",
    "X_scaled = scaler.fit_transform(X)"
   ]
  },
  {
   "cell_type": "code",
   "execution_count": 15,
   "id": "7c56f0ef-a1fb-45a2-a87e-f45191243b3d",
   "metadata": {},
   "outputs": [
    {
     "name": "stderr",
     "output_type": "stream",
     "text": [
      "C:\\Users\\prerana\\anaconda3\\envs\\my_new_env\\lib\\site-packages\\sklearn\\feature_selection\\_univariate_selection.py:112: UserWarning: Features [31 32 33 49 56 57 58 59 60 61] are constant.\n",
      "  warnings.warn(\"Features %s are constant.\" % constant_features_idx, UserWarning)\n",
      "C:\\Users\\prerana\\anaconda3\\envs\\my_new_env\\lib\\site-packages\\sklearn\\feature_selection\\_univariate_selection.py:113: RuntimeWarning: invalid value encountered in divide\n",
      "  f = msb / msw\n"
     ]
    }
   ],
   "source": [
    "# Impute missing values (replace NaNs with the mean)\n",
    "imputer = SimpleImputer(strategy='mean')\n",
    "X_imputed = imputer.fit_transform(X)\n",
    "\n",
    "# Determine the number of columns (features) in your DataFrame\n",
    "num_columns = df.shape[1]\n",
    "\n",
    "# Set an appropriate value for k (less than or equal to the number of columns)\n",
    "k = min(20, num_columns)  # Adjust this as needed\n",
    "\n",
    "# Initialize SelectKBest with the scoring function\n",
    "k_best = SelectKBest(score_func=f_classif, k=k)\n",
    "\n",
    "# Fit and transform the imputed data to select the top 10 features\n",
    "X_new = k_best.fit_transform(X_imputed, y)"
   ]
  },
  {
   "cell_type": "code",
   "execution_count": 16,
   "id": "a9da71e6-72ab-4632-b666-e02391c8e1b9",
   "metadata": {},
   "outputs": [
    {
     "name": "stdout",
     "output_type": "stream",
     "text": [
      "[ True False False False  True False  True False  True False  True  True\n",
      "  True  True False False False False False False False False False False\n",
      " False  True False False False False False False False False False False\n",
      " False False  True  True  True  True  True False False False False False\n",
      "  True False False False  True  True  True False False False False False\n",
      " False False False  True False False False False False  True False False\n",
      " False False False False False False]\n"
     ]
    }
   ],
   "source": [
    "# Get the boolean mask of selected features\n",
    "selected_features_mask = k_best.get_support()\n",
    "print(selected_features_mask)"
   ]
  },
  {
   "cell_type": "code",
   "execution_count": 17,
   "id": "9e991ba6-ac46-4aef-b18a-41dbfacc4f88",
   "metadata": {},
   "outputs": [],
   "source": [
    "elected_feature_names = X.columns[selected_features_mask]"
   ]
  },
  {
   "cell_type": "code",
   "execution_count": 18,
   "id": "83b57bcc-950c-4688-bfc4-02b81ad0daf8",
   "metadata": {},
   "outputs": [
    {
     "data": {
      "text/plain": [
       "Index(['Destination Port', 'Total Length of Fwd Packets',\n",
       "       'Fwd Packet Length Max', 'Fwd Packet Length Mean',\n",
       "       'Bwd Packet Length Max', 'Bwd Packet Length Min',\n",
       "       'Bwd Packet Length Mean', 'Bwd Packet Length Std', 'Bwd IAT Total',\n",
       "       'Min Packet Length', 'Max Packet Length', 'Packet Length Mean',\n",
       "       'Packet Length Std', 'Packet Length Variance', 'URG Flag Count',\n",
       "       'Average Packet Size', 'Avg Fwd Segment Size', 'Avg Bwd Segment Size',\n",
       "       'Subflow Fwd Bytes', 'min_seg_size_forward'],\n",
       "      dtype='object')"
      ]
     },
     "execution_count": 18,
     "metadata": {},
     "output_type": "execute_result"
    }
   ],
   "source": [
    "elected_feature_names"
   ]
  },
  {
   "cell_type": "code",
   "execution_count": 19,
   "id": "60d89e34-6557-48eb-ae6c-26702536ca61",
   "metadata": {},
   "outputs": [],
   "source": [
    "new_columns=['Destination Port', 'Total Length of Fwd Packets',\n",
    "       'Fwd Packet Length Max', 'Fwd Packet Length Mean',\n",
    "       'Bwd Packet Length Max', 'Bwd Packet Length Min',\n",
    "       'Bwd Packet Length Mean', 'Bwd Packet Length Std', 'Bwd IAT Total',\n",
    "       'Min Packet Length', 'Max Packet Length', 'Packet Length Mean',\n",
    "       'Packet Length Std', 'Packet Length Variance', 'URG Flag Count',\n",
    "       'Average Packet Size', 'Avg Fwd Segment Size', 'Avg Bwd Segment Size',\n",
    "       'Subflow Fwd Bytes', 'min_seg_size_forward']"
   ]
  },
  {
   "cell_type": "code",
   "execution_count": 20,
   "id": "f1cc9f4a-b74e-430e-a0eb-ffd8e874f846",
   "metadata": {},
   "outputs": [],
   "source": [
    "df_new=X[new_columns]"
   ]
  },
  {
   "cell_type": "code",
   "execution_count": 21,
   "id": "09a042ab-1d64-4cee-80ba-b3a2a3c8a369",
   "metadata": {},
   "outputs": [
    {
     "data": {
      "text/plain": [
       "Index(['Destination Port', 'Total Length of Fwd Packets',\n",
       "       'Fwd Packet Length Max', 'Fwd Packet Length Mean',\n",
       "       'Bwd Packet Length Max', 'Bwd Packet Length Min',\n",
       "       'Bwd Packet Length Mean', 'Bwd Packet Length Std', 'Bwd IAT Total',\n",
       "       'Min Packet Length', 'Max Packet Length', 'Packet Length Mean',\n",
       "       'Packet Length Std', 'Packet Length Variance', 'URG Flag Count',\n",
       "       'Average Packet Size', 'Avg Fwd Segment Size', 'Avg Bwd Segment Size',\n",
       "       'Subflow Fwd Bytes', 'min_seg_size_forward'],\n",
       "      dtype='object')"
      ]
     },
     "execution_count": 21,
     "metadata": {},
     "output_type": "execute_result"
    }
   ],
   "source": [
    "df_new.columns"
   ]
  },
  {
   "cell_type": "code",
   "execution_count": 22,
   "id": "7b366940-6aa1-45a8-a23f-f00dfc961d11",
   "metadata": {},
   "outputs": [
    {
     "name": "stderr",
     "output_type": "stream",
     "text": [
      "C:\\Users\\prerana\\AppData\\Local\\Temp\\ipykernel_39556\\3160568258.py:1: SettingWithCopyWarning: \n",
      "A value is trying to be set on a copy of a slice from a DataFrame.\n",
      "Try using .loc[row_indexer,col_indexer] = value instead\n",
      "\n",
      "See the caveats in the documentation: https://pandas.pydata.org/pandas-docs/stable/user_guide/indexing.html#returning-a-view-versus-a-copy\n",
      "  df_new['label']=df['Label']\n"
     ]
    }
   ],
   "source": [
    "df_new['label']=df['Label']"
   ]
  },
  {
   "cell_type": "code",
   "execution_count": 23,
   "id": "2cc920e0-5952-4085-aad6-1b056db7cfa4",
   "metadata": {},
   "outputs": [],
   "source": [
    "X1=df_new.iloc[:,:-1].values\n",
    "y1=df_new.iloc[:,-1].values"
   ]
  },
  {
   "cell_type": "code",
   "execution_count": 24,
   "id": "683497f4-8eb3-444a-b461-730b4796440c",
   "metadata": {},
   "outputs": [],
   "source": [
    "X_train, X_test, y_train, y_test = train_test_split(X1, y1, test_size=0.3, random_state=42)"
   ]
  },
  {
   "cell_type": "code",
   "execution_count": 25,
   "id": "d50fddac-dd73-473c-af9d-730366cd5879",
   "metadata": {},
   "outputs": [
    {
     "data": {
      "text/plain": [
       "((67723, 20), (67723,))"
      ]
     },
     "execution_count": 25,
     "metadata": {},
     "output_type": "execute_result"
    }
   ],
   "source": [
    "X_test.shape, y_test.shape"
   ]
  },
  {
   "cell_type": "code",
   "execution_count": 26,
   "id": "4be39577-dd12-43f8-860a-d8e6496ed91e",
   "metadata": {},
   "outputs": [],
   "source": [
    "ann = Sequential()\n",
    "ann.add(Dense(units=20,activation='sigmoid'))\n",
    "ann.add(Dense(units=20,activation='sigmoid'))\n",
    "ann.add(Dense(units=1,activation='sigmoid'))\n",
    "ann.compile(optimizer ='adam' , loss='categorical_crossentropy' , metrics= ['accuracy'])"
   ]
  },
  {
   "cell_type": "code",
   "execution_count": 31,
   "id": "1b9fc91d-1cba-40ca-ab44-5de132f872cf",
   "metadata": {},
   "outputs": [],
   "source": [
    "early_stopping = EarlyStopping(monitor='loss', patience=10)"
   ]
  },
  {
   "cell_type": "code",
   "execution_count": 29,
   "id": "79b969ff-f4ff-4451-9dba-fe8a0303a3a5",
   "metadata": {},
   "outputs": [
    {
     "name": "stdout",
     "output_type": "stream",
     "text": [
      "Model: \"model\"\n",
      "_________________________________________________________________\n",
      " Layer (type)                Output Shape              Param #   \n",
      "=================================================================\n",
      " numerical_input (InputLayer  [(None, 20)]             0         \n",
      " )                                                               \n",
      "                                                                 \n",
      " batch_normalization_1 (Batc  (None, 20)               80        \n",
      " hNormalization)                                                 \n",
      "                                                                 \n",
      " dense_6 (Dense)             (None, 128)               2688      \n",
      "                                                                 \n",
      " dropout_2 (Dropout)         (None, 128)               0         \n",
      "                                                                 \n",
      " dense_7 (Dense)             (None, 64)                8256      \n",
      "                                                                 \n",
      " dropout_3 (Dropout)         (None, 64)                0         \n",
      "                                                                 \n",
      " dense_8 (Dense)             (None, 32)                2080      \n",
      "                                                                 \n",
      " output (Dense)              (None, 2)                 66        \n",
      "                                                                 \n",
      "=================================================================\n",
      "Total params: 13,170\n",
      "Trainable params: 13,130\n",
      "Non-trainable params: 40\n",
      "_________________________________________________________________\n"
     ]
    }
   ],
   "source": [
    "class ClassificationModel:\n",
    "    def __init__(self, numerical_feature_count, num_classes):\n",
    "        \"\"\"\n",
    "        Initializes the ClassificationModel class.\n",
    "        \n",
    "        :param numerical_feature_count: Number of numerical features.\n",
    "        :param num_classes: Number of classes in the target variable.\n",
    "        \"\"\"\n",
    "        self.numerical_feature_count = numerical_feature_count\n",
    "        self.num_classes = num_classes\n",
    "        self.model = self._build_model()\n",
    "\n",
    "    def _build_model(self):\n",
    "        \"\"\"\n",
    "        Builds the TensorFlow model for classification tasks.\n",
    "        \n",
    "        :return: Compiled TensorFlow model.\n",
    "        \"\"\"\n",
    "        # Numerical input\n",
    "        numerical_input = Input(shape=(self.numerical_feature_count,), name=\"numerical_input\")\n",
    "        x = BatchNormalization()(numerical_input)  # Normalize numerical inputs\n",
    "\n",
    "        # Fully connected layers\n",
    "        x = Dense(128, activation='relu')(x)\n",
    "        x = Dropout(0.3)(x)\n",
    "        x = Dense(64, activation='relu')(x)\n",
    "        x = Dropout(0.3)(x)\n",
    "        x = Dense(32, activation='relu')(x)\n",
    "\n",
    "        # Output layer\n",
    "        output = Dense(self.num_classes, activation='softmax', name=\"output\")(x)\n",
    "        # Create model\n",
    "        model = Model(inputs=numerical_input, outputs=output)\n",
    "\n",
    "        # Create model\n",
    "        model.compile(\n",
    "            optimizer=Adam(learning_rate=0.001),\n",
    "            loss='sparse_categorical_crossentropy',\n",
    "            metrics=['accuracy']\n",
    "        )\n",
    "        \n",
    "        return model\n",
    "\n",
    "    def summary(self):\n",
    "        \"\"\"Prints the summary of the model.\"\"\"\n",
    "        self.model.summary()\n",
    "\n",
    "numerical_feature_count = 20\n",
    "num_classes = 2\n",
    "\n",
    "model = ClassificationModel(numerical_feature_count, num_classes).model\n",
    "model.summary()"
   ]
  },
  {
   "cell_type": "code",
   "execution_count": 32,
   "id": "aa2f2b46-a92f-4239-b5ba-0273dba64f53",
   "metadata": {},
   "outputs": [
    {
     "name": "stdout",
     "output_type": "stream",
     "text": [
      "Epoch 1/100\n",
      "4939/4939 [==============================] - 10s 2ms/step - loss: 0.0574 - accuracy: 0.9841\n",
      "Epoch 2/100\n",
      "4939/4939 [==============================] - 11s 2ms/step - loss: 0.0558 - accuracy: 0.9848\n",
      "Epoch 3/100\n",
      "4939/4939 [==============================] - 11s 2ms/step - loss: 0.0567 - accuracy: 0.9842\n",
      "Epoch 4/100\n",
      "4939/4939 [==============================] - 10s 2ms/step - loss: 0.0556 - accuracy: 0.9844\n",
      "Epoch 5/100\n",
      "4939/4939 [==============================] - 11s 2ms/step - loss: 0.0559 - accuracy: 0.9842\n",
      "Epoch 6/100\n",
      "4939/4939 [==============================] - 11s 2ms/step - loss: 0.0559 - accuracy: 0.9845\n",
      "Epoch 7/100\n",
      "4939/4939 [==============================] - 11s 2ms/step - loss: 0.0561 - accuracy: 0.9845\n",
      "Epoch 8/100\n",
      "4939/4939 [==============================] - 11s 2ms/step - loss: 0.0558 - accuracy: 0.9844\n",
      "Epoch 9/100\n",
      "4939/4939 [==============================] - 11s 2ms/step - loss: 0.0566 - accuracy: 0.9845\n",
      "Epoch 10/100\n",
      "4939/4939 [==============================] - 11s 2ms/step - loss: 0.0569 - accuracy: 0.9844\n",
      "Epoch 11/100\n",
      "4939/4939 [==============================] - 11s 2ms/step - loss: 0.0555 - accuracy: 0.9846\n",
      "Epoch 12/100\n",
      "4939/4939 [==============================] - 11s 2ms/step - loss: 0.0570 - accuracy: 0.9843\n",
      "Epoch 13/100\n",
      "4939/4939 [==============================] - 11s 2ms/step - loss: 0.0590 - accuracy: 0.9842\n",
      "Epoch 14/100\n",
      "4939/4939 [==============================] - 11s 2ms/step - loss: 0.0558 - accuracy: 0.9844\n",
      "Epoch 15/100\n",
      "4939/4939 [==============================] - 11s 2ms/step - loss: 0.0563 - accuracy: 0.9845\n",
      "Epoch 16/100\n",
      "4939/4939 [==============================] - 12s 2ms/step - loss: 0.0566 - accuracy: 0.9846\n",
      "Epoch 17/100\n",
      "4939/4939 [==============================] - 11s 2ms/step - loss: 0.0566 - accuracy: 0.9843\n",
      "Epoch 18/100\n",
      "4939/4939 [==============================] - 12s 2ms/step - loss: 0.0563 - accuracy: 0.9843\n",
      "Epoch 19/100\n",
      "4939/4939 [==============================] - 11s 2ms/step - loss: 0.0564 - accuracy: 0.9845\n",
      "Epoch 20/100\n",
      "4939/4939 [==============================] - 11s 2ms/step - loss: 0.0563 - accuracy: 0.9842\n",
      "Epoch 21/100\n",
      "4939/4939 [==============================] - 12s 2ms/step - loss: 0.0568 - accuracy: 0.9843\n"
     ]
    },
    {
     "data": {
      "text/plain": [
       "<keras.callbacks.History at 0x183d8937490>"
      ]
     },
     "execution_count": 32,
     "metadata": {},
     "output_type": "execute_result"
    }
   ],
   "source": [
    "#training the model on training set\n",
    "model.fit(X_train,y_train,batch_size=32,epochs=100,callbacks=[early_stopping])"
   ]
  },
  {
   "cell_type": "code",
   "execution_count": null,
   "id": "0bfeced6-d46f-41f5-976f-6a7a76dd011b",
   "metadata": {},
   "outputs": [],
   "source": []
  }
 ],
 "metadata": {
  "kernelspec": {
   "display_name": "Python 3 (ipykernel)",
   "language": "python",
   "name": "python3"
  },
  "language_info": {
   "codemirror_mode": {
    "name": "ipython",
    "version": 3
   },
   "file_extension": ".py",
   "mimetype": "text/x-python",
   "name": "python",
   "nbconvert_exporter": "python",
   "pygments_lexer": "ipython3",
   "version": "3.10.13"
  }
 },
 "nbformat": 4,
 "nbformat_minor": 5
}
